{
 "cells": [
  {
   "cell_type": "code",
   "execution_count": 101,
   "id": "a86edb96",
   "metadata": {},
   "outputs": [
    {
     "name": "stdout",
     "output_type": "stream",
     "text": [
      "\n",
      "\n",
      "Enter Your Name : PRADEEP\n",
      "Enter Your Phone Number : 123456789\n",
      "please enter a valid 10 digit number\n",
      "Enter a password length : 5\n",
      "Password : vaOsz\n",
      "Crrent Time : 2022-11-29 04:45:04.330752\n"
     ]
    }
   ],
   "source": [
    "import random\n",
    "from datetime import time\n",
    "time =datetime.now()\n",
    "d= now.strftime(\"%m/%d/%Y, %H:%M:%S\")\n",
    "\n",
    "class project_password():\n",
    "    \n",
    "    def profile(self):\n",
    "        name=input(\"Enter Your Name : \")\n",
    "        phone_number=input(\"Enter Your Phone Number : \")\n",
    "        if len(phone_number)==10:\n",
    "            pass\n",
    "        else:\n",
    "            print(\"please enter a valid 10 digit number\")\n",
    "    def password(self):        \n",
    "        string=\"qwertyuioplkjhgfdsazxcvbnm0123456789QWERTYUIOPLKJHGFDSAZXCVBNM!@#$%^&*\"\n",
    "        password_length=int(input(\"Enter a password length : \"))\n",
    "        __p=\"\".join(random.sample(string,password_length))\n",
    "        \n",
    "        print(f\"Password :\",__p)\n",
    "        print(f\"Crrent Time :\",time)\n",
    "        \n",
    "student1=project_password()\n",
    "student2=project_password()\n",
    "print()\n",
    "print()\n",
    "student1.profile()\n",
    "student2.password()"
   ]
  },
  {
   "cell_type": "code",
   "execution_count": null,
   "id": "41e65917",
   "metadata": {},
   "outputs": [],
   "source": []
  }
 ],
 "metadata": {
  "kernelspec": {
   "display_name": "Python 3 (ipykernel)",
   "language": "python",
   "name": "python3"
  },
  "language_info": {
   "codemirror_mode": {
    "name": "ipython",
    "version": 3
   },
   "file_extension": ".py",
   "mimetype": "text/x-python",
   "name": "python",
   "nbconvert_exporter": "python",
   "pygments_lexer": "ipython3",
   "version": "3.9.12"
  }
 },
 "nbformat": 4,
 "nbformat_minor": 5
}
